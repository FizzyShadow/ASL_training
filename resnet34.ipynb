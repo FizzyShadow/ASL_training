{
 "cells": [
  {
   "cell_type": "code",
   "execution_count": null,
   "id": "8e4f0186",
   "metadata": {},
   "outputs": [],
   "source": [
    "import numpy as np\n",
    "from sklearn.metrics import confusion_matrix, classification_report\n",
    "import matplotlib.pyplot as plt\n",
    "import seaborn as sns\n",
    "import pandas as pd\n",
    "import jinja2\n",
    "import cv2\n",
    "import logging\n",
    "\n",
    "import tensorflow as tf\n",
    "from tensorflow.keras.models import Sequential\n",
    "from tensorflow.keras import layers\n",
    "from tensorflow import keras\n",
    "from tensorflow.keras.preprocessing import image_dataset_from_directory\n",
    "from tensorflow.keras.preprocessing.image import ImageDataGenerator\n",
    "from tensorflow.keras.callbacks import ModelCheckpoint, EarlyStopping"
   ]
  },
  {
   "cell_type": "code",
   "execution_count": null,
   "id": "53609e9a",
   "metadata": {},
   "outputs": [],
   "source": [
    "def identity_block(x, filter):\n",
    "    # copy tensor to variable called x_skip\n",
    "    x_skip = x\n",
    "    # Layer 1\n",
    "    x = tf.keras.layers.Conv2D(filter, (3,3), padding = 'same')(x)\n",
    "    x = tf.keras.layers.BatchNormalization(axis=3)(x)\n",
    "    x = tf.keras.layers.Activation('relu')(x)\n",
    "    # Layer 2\n",
    "    x = tf.keras.layers.Conv2D(filter, (3,3), padding = 'same')(x)\n",
    "    x = tf.keras.layers.BatchNormalization(axis=3)(x)\n",
    "    # Add Residue\n",
    "    x = tf.keras.layers.Add()([x, x_skip])     \n",
    "    x = tf.keras.layers.Activation('relu')(x)\n",
    "    return x"
   ]
  },
  {
   "cell_type": "code",
   "execution_count": null,
   "id": "38b9e48d",
   "metadata": {},
   "outputs": [],
   "source": [
    "def convolutional_block(x, filter):\n",
    "    # copy tensor to variable called x_skip\n",
    "    x_skip = x\n",
    "    # Layer 1\n",
    "    x = tf.keras.layers.Conv2D(filter, (3,3), padding = 'same', strides = (2,2))(x)\n",
    "    x = tf.keras.layers.BatchNormalization(axis=3)(x)\n",
    "    x = tf.keras.layers.Activation('relu')(x)\n",
    "    # Layer 2\n",
    "    x = tf.keras.layers.Conv2D(filter, (3,3), padding = 'same')(x)\n",
    "    x = tf.keras.layers.BatchNormalization(axis=3)(x)\n",
    "    # Processing Residue with conv(1,1)\n",
    "    x_skip = tf.keras.layers.Conv2D(filter, (1,1), strides = (2,2))(x_skip)\n",
    "    # Add Residue\n",
    "    x = tf.keras.layers.Add()([x, x_skip])     \n",
    "    x = tf.keras.layers.Activation('relu')(x)\n",
    "    return x"
   ]
  },
  {
   "cell_type": "code",
   "execution_count": null,
   "id": "40475c97",
   "metadata": {},
   "outputs": [],
   "source": [
    "def ResNet34(shape = (32, 32, 3), classes = 1):\n",
    "    # Step 1 (Setup Input Layer)\n",
    "    x_input = tf.keras.layers.Input(shape)\n",
    "    x = tf.keras.layers.ZeroPadding2D((3, 3))(x_input)\n",
    "    # Step 2 (Initial Conv layer along with maxPool)\n",
    "    x = tf.keras.layers.Conv2D(16, kernel_size=7, strides=2, padding='same')(x)\n",
    "    x = tf.keras.layers.BatchNormalization()(x)\n",
    "    x = tf.keras.layers.Activation('relu')(x)\n",
    "    x = tf.keras.layers.MaxPool2D(pool_size=3, strides=2, padding='same')(x)\n",
    "    # Define size of sub-blocks and initial filter size\n",
    "    block_layers = [3, 4, 6, 3]\n",
    "    filter_size = 16\n",
    "    # Step 3 Add the Resnet Blocks\n",
    "    for i in range(4):\n",
    "        if i == 0:\n",
    "            # For sub-block 1 Residual/Convolutional block not needed\n",
    "            for j in range(block_layers[i]):\n",
    "                x = identity_block(x, filter_size)\n",
    "        else:\n",
    "            # One Residual/Convolutional Block followed by Identity blocks\n",
    "            # The filter size will go on increasing by a factor of 2\n",
    "            filter_size = filter_size*2\n",
    "            x = convolutional_block(x, filter_size)\n",
    "            for j in range(block_layers[i] - 1):\n",
    "                x = identity_block(x, filter_size)\n",
    "    # Step 4 End Dense Network\n",
    "    x = tf.keras.layers.AveragePooling2D((2,2), padding = 'same')(x)\n",
    "    x = tf.keras.layers.Flatten()(x)\n",
    "    x = tf.keras.layers.Dense(512, activation = 'relu')(x)\n",
    "    x = tf.keras.layers.Dense(classes, activation = 'softmax')(x)\n",
    "    model = tf.keras.models.Model(inputs = x_input, outputs = x, name = \"ResNet34\")\n",
    "    model.compile(loss=compile_loss,  optimizer=lr, metrics=['accuracy'])\n",
    "    return model"
   ]
  },
  {
   "cell_type": "code",
   "execution_count": null,
   "id": "b2bf6028",
   "metadata": {},
   "outputs": [],
   "source": [
    "data_dir_train = 'Dataset/train/'\n",
    "data_dir_test = 'Dataset/test/'\n",
    "\n",
    "img_size = 128\n",
    "input_shape = (img_size, img_size, 3)\n",
    "target_size =(img_size,img_size)\n",
    "batch_size = 128\n",
    "num_classes = 29\n",
    "classes = ['a', 'b', 'c', 'd', 'e', 'f', 'g', 'h', 'i', 'j', 'k', 'l','m', 'n', 'o', 'p', 'q', 'r', \n",
    "           's', 't', 'u', 'v', 'w', 'x', 'y', 'z', 'del', 'nothing', 'space']\n",
    "           \n",
    "test_num = 0\n",
    "\n",
    "compile_optimizer = \"adam\"\n",
    "compile_loss = \"categorical_crossentropy\"\n",
    "model_type = \"ResNet34\"\n",
    "learning_rate= 0.001\n",
    "lr = tf.keras.optimizers.Adam(learning_rate=learning_rate)\n",
    "\n",
    "csv_path = f'Results/Dataset_{model_type}_{batch_size}_{img_size}_Test_{test_num}_Learning_rate{learning_rate}.csv'\n",
    "hist_path = f'Results/History/Dataset_{model_type}_{batch_size}_{img_size}_Test_{test_num}_Learning_rate{learning_rate}_history.csv'\n",
    "save_model_path = f\"Models/Dataset_{model_type}_{batch_size}_{img_size}_Test_{test_num}_Learning_rate{learning_rate}.h5\""
   ]
  },
  {
   "cell_type": "code",
   "execution_count": null,
   "id": "2b6756c4",
   "metadata": {},
   "outputs": [],
   "source": [
    "training_data = ImageDataGenerator(\n",
    "        rescale = 1./255,\n",
    "        rotation_range = 25,\n",
    "        width_shift_range = 0.25,\n",
    "        height_shift_range = 0.25,\n",
    "        shear_range = 0.5,\n",
    "        zoom_range = 0.25,\n",
    "        brightness_range= [0.6,0.9],\n",
    "        vertical_flip = True,\n",
    "        fill_mode = 'nearest',\n",
    "        validation_split = 0.2,\n",
    "        )\n",
    "\n",
    "test_data = ImageDataGenerator(\n",
    "        rescale = 1./255,\n",
    "        )"
   ]
  },
  {
   "cell_type": "code",
   "execution_count": null,
   "id": "f50f2173",
   "metadata": {},
   "outputs": [],
   "source": [
    "train_ds = training_data.flow_from_directory(\n",
    "    directory=data_dir_train,\n",
    "    shuffle = True,\n",
    "    seed = 42,\n",
    "    color_mode=\"rgb\",\n",
    "    class_mode = 'categorical',\n",
    "    target_size=target_size,\n",
    "    batch_size=batch_size,\n",
    "    subset=\"training\",\n",
    "   )\n",
    "\n",
    "validation_ds = training_data.flow_from_directory(\n",
    "    directory=data_dir_train,\n",
    "    shuffle = True,\n",
    "    seed = 42,\n",
    "    class_mode = 'categorical',\n",
    "    color_mode=\"rgb\",\n",
    "    target_size=target_size,\n",
    "    batch_size=batch_size,\n",
    "    subset=\"validation\",\n",
    "    )\n",
    "\n",
    "test_ds = test_data.flow_from_directory(\n",
    "    directory=data_dir_test,\n",
    "    target_size=target_size,\n",
    "    color_mode=\"rgb\",\n",
    "    shuffle = False,\n",
    "    )"
   ]
  },
  {
   "cell_type": "code",
   "execution_count": null,
   "id": "49643930",
   "metadata": {},
   "outputs": [],
   "source": [
    "model = ResNet34(input_shape, num_classes)\n",
    "#model.load_weights('Models/DatasetV2_ResNet34_32_200_Test_1.h5')\n",
    "#model.load_weights(save_model_path)\n",
    "#model.summary()"
   ]
  },
  {
   "cell_type": "code",
   "execution_count": null,
   "id": "7d75ba99",
   "metadata": {
    "scrolled": false
   },
   "outputs": [],
   "source": [
    "checkpoint = ModelCheckpoint(save_model_path, monitor='val_accuracy',\n",
    "                             save_best_only=True, save_weights_only=True, mode='auto')\n",
    "\n",
    "early = EarlyStopping(monitor='val_accuracy', patience=3, verbose=1)\n",
    "\n",
    "history = model.fit(train_ds, epochs=50,  callbacks=[checkpoint,early], validation_data = validation_ds)"
   ]
  },
  {
   "cell_type": "code",
   "execution_count": null,
   "id": "799332d2",
   "metadata": {},
   "outputs": [],
   "source": [
    "model.load_weights(save_model_path)\n",
    "#history = pd.read_csv(hist_path)\n",
    "\n",
    "df = pd.DataFrame(history.history)\n",
    "df.plot(figsize=(10,8))\n",
    "df.to_csv(hist_path)\n",
    "\n",
    "val_data = model.evaluate(validation_ds)"
   ]
  },
  {
   "cell_type": "code",
   "execution_count": null,
   "id": "88c484e5",
   "metadata": {},
   "outputs": [],
   "source": [
    "history = pd.read_csv(hist_path)\n",
    "df = pd.DataFrame(history[['accuracy', 'val_accuracy']])\n",
    "df.plot(figsize=(10,8))"
   ]
  },
  {
   "cell_type": "code",
   "execution_count": null,
   "id": "96db7223",
   "metadata": {},
   "outputs": [],
   "source": [
    "Y_pred = model.predict(validation_ds)\n",
    "print(Y_pred.shape)"
   ]
  },
  {
   "cell_type": "code",
   "execution_count": null,
   "id": "3a82b61a",
   "metadata": {},
   "outputs": [],
   "source": [
    "eq = []\n",
    "for x in Y_pred:\n",
    "    eq.append(np.argmax(x))\n"
   ]
  },
  {
   "cell_type": "code",
   "execution_count": null,
   "id": "38cea5aa",
   "metadata": {},
   "outputs": [],
   "source": [
    "cf_matrix = confusion_matrix(validation_ds.classes,eq)"
   ]
  },
  {
   "cell_type": "code",
   "execution_count": null,
   "id": "17d25d0a",
   "metadata": {},
   "outputs": [],
   "source": [
    "\n",
    "\n",
    "plt.figure(figsize = (50,50))\n",
    "\n",
    "sns.heatmap(cf_matrix/np.sum(cf_matrix), annot=True, \n",
    "            fmt='.2%', cmap='Blues',\n",
    "            annot_kws={\n",
    "                'fontsize': 18,\n",
    "                'fontweight': 'bold',\n",
    "                'fontfamily': 'serif'\n",
    "            },\n",
    "            )\n",
    "plt.xticks(range(0,29), classes)\n",
    "plt.yticks(range(0,29), classes)\n",
    "plt.tick_params(labelsize=40)"
   ]
  },
  {
   "cell_type": "code",
   "execution_count": null,
   "id": "3cdd649b",
   "metadata": {},
   "outputs": [],
   "source": [
    "pred = model.predict(test_ds, steps = len(test_ds), verbose=1)\n",
    "cl = np.round(pred)\n",
    "classes_prediction = []\n",
    "for prediction in cl:\n",
    "    classes_prediction.append(classes[np.argmax(prediction)])\n",
    "\n",
    "filenames=test_ds.filenames\n",
    "results=pd.DataFrame({\"file\":filenames,\"prediction\":pred[:,0], \"class\":classes_prediction})"
   ]
  },
  {
   "cell_type": "code",
   "execution_count": null,
   "id": "3e7ac836",
   "metadata": {},
   "outputs": [],
   "source": [
    "results.to_csv(csv_path)\n",
    "#results.style"
   ]
  },
  {
   "cell_type": "code",
   "execution_count": null,
   "id": "ed4049e0",
   "metadata": {},
   "outputs": [],
   "source": [
    "import cv2 \n",
    "rez = pd.read_csv(csv_path)\n",
    "plt.figure(figsize=(60,60))\n",
    "for i in range(28):\n",
    "    img_path = str(rez['file'][i])\n",
    "    image_path = data_dir_test + 'test/' + img_path[5:]\n",
    "    #print(image_path)\n",
    "    class_pred = str(rez['class'][i])\n",
    "    img = cv2.imread(image_path)\n",
    "    plt.subplot(7,8, i+1)\n",
    "    plt.imshow(img)\n",
    "    plt.title(class_pred, fontsize=20)\n"
   ]
  }
 ],
 "metadata": {
  "kernelspec": {
   "display_name": "Python 3.9.12 ('TensorFlow')",
   "language": "python",
   "name": "python3"
  },
  "language_info": {
   "codemirror_mode": {
    "name": "ipython",
    "version": 3
   },
   "file_extension": ".py",
   "mimetype": "text/x-python",
   "name": "python",
   "nbconvert_exporter": "python",
   "pygments_lexer": "ipython3",
   "version": "3.9.12"
  },
  "vscode": {
   "interpreter": {
    "hash": "82bc9df8984b336f710b17c0be0a762f894210bd8fe3ecf1faac2d4105e0baca"
   }
  }
 },
 "nbformat": 4,
 "nbformat_minor": 5
}
